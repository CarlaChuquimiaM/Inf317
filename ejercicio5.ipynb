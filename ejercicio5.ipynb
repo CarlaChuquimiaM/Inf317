{
 "cells": [
  {
   "cell_type": "code",
   "execution_count": 11,
   "id": "ce35adc1-753f-49a2-bca2-31252031af9b",
   "metadata": {},
   "outputs": [
    {
     "name": "stdout",
     "output_type": "stream",
     "text": [
      "El valor aproximado de pi es: 3.141591653590\n"
     ]
    }
   ],
   "source": [
    "import multiprocessing\n",
    "\n",
    "def calcular(start, end):\n",
    "    sum = 0.0\n",
    "    sign = 1 if start % 2 == 0 else -1  \n",
    "    for i in range(start, end):\n",
    "        sum += sign * (1.0 / (2 * i + 1))\n",
    "        sign = -sign \n",
    "    return sum\n",
    "\n",
    "def calcular_pi(n, num_procesos):\n",
    "    m = n // num_procesos\n",
    "    pool = multiprocessing.Pool(processes=num_procesos)\n",
    "    rango = [(i * m, (i + 1) * m) for i in range(num_procesos)]\n",
    "    rango[-1] = (rango[-1][0], n)\n",
    "    resultados = pool.starmap(calcular, rango)\n",
    "    pi = 4 * sum(resultados)\n",
    "    return pi\n",
    "\n",
    "if __name__ == \"__main__\":\n",
    "    n = 1000000\n",
    "    num_procesos = 3  \n",
    "\n",
    "    pi = calcular_pi(n, num_procesos)\n",
    "\n",
    "    print(f\"El valor aproximado de pi es: {pi:.12f}\")\n"
   ]
  },
  {
   "cell_type": "code",
   "execution_count": null,
   "id": "0f673d5e-351f-431e-8f41-26723e6e956c",
   "metadata": {},
   "outputs": [],
   "source": []
  },
  {
   "cell_type": "code",
   "execution_count": null,
   "id": "974fc8cb-a493-43d9-8ff1-980942ad07a7",
   "metadata": {},
   "outputs": [],
   "source": []
  },
  {
   "cell_type": "code",
   "execution_count": null,
   "id": "187b0a85-2ce7-4dc3-a845-a08165a2a90e",
   "metadata": {},
   "outputs": [],
   "source": []
  }
 ],
 "metadata": {
  "kernelspec": {
   "display_name": "Python 3 (ipykernel)",
   "language": "python",
   "name": "python3"
  },
  "language_info": {
   "codemirror_mode": {
    "name": "ipython",
    "version": 3
   },
   "file_extension": ".py",
   "mimetype": "text/x-python",
   "name": "python",
   "nbconvert_exporter": "python",
   "pygments_lexer": "ipython3",
   "version": "3.12.5"
  }
 },
 "nbformat": 4,
 "nbformat_minor": 5
}
